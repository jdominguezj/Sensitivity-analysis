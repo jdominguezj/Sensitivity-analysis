{
 "cells": [
  {
   "cell_type": "code",
   "execution_count": 1,
   "metadata": {},
   "outputs": [
    {
     "name": "stdout",
     "output_type": "stream",
     "text": [
      "('The deterministic result equals:', 120.00000000000001)\n",
      "The multipliers of the A-matrix are:\n",
      "[[-1.         -0.        ]\n",
      " [ 0.16666667 -0.16666667]]\n",
      "The multipliers of the B-matrix are\n",
      "[[0.83333333 0.16666667]]\n"
     ]
    }
   ],
   "source": [
    "import numpy as np\n",
    "\n",
    "A_det = np.matrix('10 0; -2 100')       # A-matrix\n",
    "B_det = np.matrix('1 10')               # B-matrix\n",
    "\n",
    "f = np.matrix('1000; 0')                # Functional unit vector\n",
    "\n",
    "g_LCA = B_det * A_det.I * f\n",
    "\n",
    "print(\"The deterministic result equals:\", g_LCA[0,0])\n",
    "\n",
    "# Step 1: Calculate partial derivatives\n",
    "# N.B.: this is a vectorized implementation of the MatLab code that was\n",
    "# originally written by Reinout Heijungs & Sangwong Suh\n",
    "\n",
    "s = A_det.I * f                                 # scaling vector s: inverse(A)*f\n",
    "Lambda = B_det * A_det.I                        # B*inverse(A)\n",
    "\n",
    "dgdA = -(s * Lambda).T                          # Partial derivatives A-matrix\n",
    "dgdB = s.T                                      # Partial derivatives B-matrix\n",
    "\n",
    "# Step 2: Calculate the multipliers\n",
    "\n",
    "Gamma_A = np.multiply((A_det/g_LCA), dgdA)      # Multipliers of the A-matrix\n",
    "print(\"The multipliers of the A-matrix are:\")\n",
    "print(Gamma_A)\n",
    "\n",
    "Gamma_B = np.multiply((B_det/g_LCA), dgdB)      # Multipliers of the B-matrix\n",
    "print(\"The multipliers of the B-matrix are\")\n",
    "print(Gamma_B)"
   ]
  },
  {
   "cell_type": "code",
   "execution_count": null,
   "metadata": {},
   "outputs": [],
   "source": []
  }
 ],
 "metadata": {
  "kernelspec": {
   "display_name": "Python 2",
   "language": "python",
   "name": "python2"
  },
  "language_info": {
   "codemirror_mode": {
    "name": "ipython",
    "version": 2
   },
   "file_extension": ".py",
   "mimetype": "text/x-python",
   "name": "python",
   "nbconvert_exporter": "python",
   "pygments_lexer": "ipython2",
   "version": "2.7.15"
  }
 },
 "nbformat": 4,
 "nbformat_minor": 2
}

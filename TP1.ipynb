{
 "cells": [
  {
   "cell_type": "markdown",
   "metadata": {
    "slideshow": {
     "slide_type": "slide"
    }
   },
   "source": [
    "#### Universidad Technológica de Bolívar\n",
    "# Simulación Estocástica - Taller 1\n",
    "\n",
    "- Rojo sirve para densidades y funciones de distibución teóricas (versus empíricas).\n",
    "- La escala vertical de la función <code>hist</code> coresponde a efectivos. opción <code>normed=True</code> permite obtener una áera total igual a 1\n",
    "- Empezamos cargando las bibliótecas\n",
    "- Analisis de sensibilidad"
   ]
  },
  {
   "cell_type": "code",
   "execution_count": 1,
   "metadata": {},
   "outputs": [],
   "source": [
    "%matplotlib inline\n",
    "import matplotlib.pyplot as plt\n",
    "from matplotlib.pyplot import *\n",
    "from math import *\n",
    "from numpy import *\n",
    "from numpy.random import *\n",
    "from scipy.misc import *\n",
    "import pyKriging\n",
    "from pyKriging.krige import kriging\n",
    "from pyKriging.samplingplan import samplingplan\n",
    "#from scipy import *"
   ]
  },
  {
   "cell_type": "markdown",
   "metadata": {},
   "source": [
    "## Simulación de una variable aleatoria uniforme en [0,1]."
   ]
  },
  {
   "cell_type": "code",
   "execution_count": null,
   "metadata": {},
   "outputs": [],
   "source": [
    "X = rand(5,1);  \n",
    "print(X)            \n",
    "hist(X);            ## hist no es normalizado "
   ]
  },
  {
   "cell_type": "code",
   "execution_count": null,
   "metadata": {},
   "outputs": [],
   "source": [
    "N=10**4; \n",
    "X=rand(N,1);\n",
    "print(linspace(0,1,6))                          \n",
    "hist(X, bins = linspace(0,1,6), normed = True); \n",
    "plot( linspace(0.1,0.9,5), [1]*5, 'ro' );       "
   ]
  },
  {
   "cell_type": "code",
   "execution_count": null,
   "metadata": {},
   "outputs": [],
   "source": [
    "\n",
    "N=10**6; X=rand(N,1);\n",
    "hist(X, bins = linspace(0,1,101), normed = True);\n",
    "plot([0,1],[1,1],'r')    "
   ]
  },
  {
   "cell_type": "markdown",
   "metadata": {},
   "source": [
    "## Distribución exponential de parametro 1/2.\n",
    "\n",
    "Esperanza 2, cf <code>exponential</code>. Para $x > 0$, $f(x) = (1/2)e^{-x/2}$ y $F(x) = 1 - e^{-x/2}$. $F^{-1}(u) = -2 \\ln(1 - u)$ donde $1 - U \\sim U$."
   ]
  },
  {
   "cell_type": "code",
   "execution_count": null,
   "metadata": {},
   "outputs": [],
   "source": [
    "N=10**4; U=rand(N,1);\n",
    "X=-2*log(U);                                          \n",
    "hist(X, bins = linspace(0,10,51), normed = True); \n",
    "xx=linspace(0,10,201);\n",
    "plot(xx,exp(-xx/2)/2 ,'r')"
   ]
  },
  {
   "cell_type": "code",
   "execution_count": null,
   "metadata": {},
   "outputs": [],
   "source": [
    "X=exponential(2, (N,1));\n",
    "hist(X, bins = linspace(0,10,51), normed = True); \n",
    "plot(xx,exp(-xx/2)/2,'r')"
   ]
  },
  {
   "cell_type": "code",
   "execution_count": null,
   "metadata": {},
   "outputs": [],
   "source": [
    "N = 10**2;\n",
    "X=exponential(2, (N,1));\n",
    "X=sorted(X);\n",
    "plot(X,linspace(1/N,1,N))        \n",
    "plot(xx,1 - exp(-xx/2),'r')"
   ]
  },
  {
   "cell_type": "markdown",
   "metadata": {},
   "source": [
    "## Mínimo de dos variables exponentiales.\n",
    "\n",
    "Si $X, Y \\sim \\text{Exp}(1/2)$ son independientes, $\\min\\{X, Y\\} \\sim \\text{Exp}(1)$."
   ]
  },
  {
   "cell_type": "code",
   "execution_count": null,
   "metadata": {},
   "outputs": [],
   "source": [
    "N = 10**4; X=exponential(2, (N,2));\n",
    "print(X[0,:])\n",
    "X=sort(X,axis = 1); \n",
    "print(X[0,:])\n",
    "hist(X[:,0], bins = linspace(0,5,26), normed = True); \n",
    "xx=linspace(0,5,101)\n",
    "plot(xx,exp(-xx),'r')\n"
   ]
  },
  {
   "cell_type": "markdown",
   "metadata": {},
   "source": [
    "## Uniforme en $\\{0,1,2,\\ldots,10\\}$."
   ]
  },
  {
   "cell_type": "code",
   "execution_count": null,
   "metadata": {},
   "outputs": [],
   "source": [
    "N=10**5; X=ceil(10*rand(N,1));\n",
    "hist(X, bins = linspace(0.5,10.5,11), normed = True);\n",
    "plot( linspace(1,10,10), [1./10]*10, 'ro' );  "
   ]
  },
  {
   "cell_type": "code",
   "execution_count": null,
   "metadata": {},
   "outputs": [],
   "source": [
    "E=zeros((10,1))\n",
    "\n",
    "for i in range(N):                              \n",
    "    E[ int(X[i]) - 1 ] = E[ int(X[i]) - 1 ] + 1  \n",
    "\n",
    "F = cumsum(E)/N  \n",
    "\n",
    "for i in range(10):\n",
    "    plot([i, i+1],[F[i], F[i]], 'b')\n",
    "    plot([i, i+1],[float(i+1)/10, float(i+1)/10],'r')"
   ]
  },
  {
   "cell_type": "markdown",
   "metadata": {},
   "source": [
    "## Poisson de parámetro 4. \n",
    "$P(X = k) = e^{-4} 4^k/k!$ donde $k \\in \\mathbb{N}$. $k =i-1$ en el código."
   ]
  },
  {
   "cell_type": "code",
   "execution_count": null,
   "metadata": {},
   "outputs": [],
   "source": [
    "N=10**4; X=zeros((N,1));\n",
    "p = zeros((19,1))\n",
    "for i in range(19):\n",
    "    p[i] = exp(-4) * 4**(float(i)) / math.factorial(i)\n",
    "\n",
    "cp = cumsum(p)\n",
    "cp = append(cp,1)   ## append agrega un elemento al final de la mesa\n",
    "\n",
    "for i in range(N):\n",
    "    X[i] = where(rand() < cp)[0][0]   ##where( ... )[0][0] da el primero índice tal que ... es verdad\n",
    "\n",
    "hist(X, bins = linspace(-0.5,19.5,21), normed = True);\n",
    "plot( range(19), p, 'ro' );  \n"
   ]
  },
  {
   "cell_type": "markdown",
   "metadata": {},
   "source": [
    "## Simulación de la distribución de Poisson con productos de variables uniformes.\n",
    "\n",
    "$\\prod_{j=1}^{K+1} U_j < e^{-5}  \\leq \\prod_{j=1}^{K} U_j$ define $K$ que sigue $\\text{Poi}(5)$."
   ]
  },
  {
   "cell_type": "code",
   "execution_count": null,
   "metadata": {},
   "outputs": [],
   "source": [
    "N=10**4; K=-ones((N,1));\n",
    "for i in range(N):\n",
    "    produit = 1;\n",
    "    while produit>exp(-5):\n",
    "        produit = produit*rand(); \n",
    "        K[i]=K[i]+1;\n",
    "\n",
    "hist(K, bins = linspace(-0.5,19.5,21), normed = True);\n",
    "xx=linspace(0,18,19)\n",
    "plot( xx, exp(-5)*5**xx / factorial(xx), 'ro' ); "
   ]
  },
  {
   "cell_type": "markdown",
   "metadata": {},
   "source": [
    "## Box Muller. \n",
    "Vector gausiano. $(X, Y)$. $X^2 + Y^2 \\sim \\text{Exp}(1/2)$. Algoritmo de generación de la distribución normal desde variables uniformes $U$ y $V$ sin usar $F$ et $F^{-1}$, difícil a calcular"
   ]
  },
  {
   "cell_type": "code",
   "execution_count": null,
   "metadata": {},
   "outputs": [],
   "source": [
    "N=10**5;\n",
    "X=normal(0, 1, (N,1));\n",
    "Y=normal(0, 1, (N,1));\n",
    "plot(X,Y,'.')"
   ]
  },
  {
   "cell_type": "code",
   "execution_count": null,
   "metadata": {},
   "outputs": [],
   "source": [
    "hist(X**2 + Y**2, bins = linspace(0,10,51), normed = True);\n",
    "xx=linspace(0,10,51); \n",
    "plot(xx, exp(-xx/2)/2 ,'r')"
   ]
  },
  {
   "cell_type": "code",
   "execution_count": null,
   "metadata": {},
   "outputs": [],
   "source": [
    "U=rand(N,1); V=pi*rand(N,1);\n",
    "X = sqrt(-2*log(U)) * cos(V) \n",
    "hist(X, bins = linspace(-3,3,31), normed = True);\n",
    "xx=linspace(-3,3,121); \n",
    "plot(xx, exp(-xx**2/2)/(sqrt(2*pi)), 'r')"
   ]
  },
  {
   "cell_type": "code",
   "execution_count": null,
   "metadata": {},
   "outputs": [],
   "source": [
    "x=-log(rand(5000,4));\n",
    "s=sum(x, axis=1);\n",
    "for i in range(0, 5000):\n",
    "    x[i,:]=x[i,:]/s[i]\n",
    "    px=x[i,0]*0+x[i,1]*0+x[i,2]*1+x[i,3]*1;\n",
    "    py=x[i,0]*0+x[i,1]*1+x[i,2]*0+x[i,3]*1;\n",
    "    plot(px,py,'')"
   ]
  },
  {
   "cell_type": "code",
   "execution_count": null,
   "metadata": {},
   "outputs": [],
   "source": [
    "N=10**4;\n",
    "X1=exponential(1,(N,1));\n",
    "X2=exponential(1,(N,1));\n",
    "X3=normal(0,1,(N,1));\n",
    "Y=X1*X2+X1**2+X1*X2*X3;\n",
    "hist(Y, bins=linspace(-5,10,51),normed=True);\n",
    "print(var(Y))\n",
    "print(time.clock(),time.time())"
   ]
  },
  {
   "cell_type": "markdown",
   "metadata": {},
   "source": [
    "## SOBOL Factor estimator "
   ]
  },
  {
   "cell_type": "code",
   "execution_count": 4,
   "metadata": {},
   "outputs": [
    {
     "name": "stdout",
     "output_type": "stream",
     "text": [
      "('S1= ', 0.16044070019732293)\n",
      "('S2= ', 0.8010378971389539)\n"
     ]
    }
   ],
   "source": [
    "N=10**6;\n",
    "X1=normal(0,1,(N,1));\n",
    "X2=exponential(1,(N,1));\n",
    "X2tilde=exponential(1,(N,1));\n",
    "X1tilde=normal(0,1,(N,1));\n",
    "Y=X1+X2**2+X1*X2;\n",
    "Ytilde1=X1+X2tilde**2+X1*X2tilde;\n",
    "Ytilde2=X1tilde+X2**2+X1tilde*X2;\n",
    "C1=cov(transpose(Y),transpose(Ytilde1))\n",
    "C2=cov(transpose(Y),transpose(Ytilde2))\n",
    "\n",
    "S1=2*C1[0,1]/(C1[0,0]+C1[1,1]);\n",
    "S2=2*C2[0,1]/(C2[0,0]+C2[1,1]);\n",
    "\n",
    "print(\"S1= \", S1)\n",
    "\n",
    "print(\"S2= \", S2)\n",
    "#El peso de la interaccion es la resta de la suma de los numeradores - la varianza total. La suma total vale 1, 1-S1-S2=S1S2\n",
    "\n"
   ]
  },
  {
   "cell_type": "markdown",
   "metadata": {},
   "source": [
    "## Prueba para 3 factores "
   ]
  },
  {
   "cell_type": "code",
   "execution_count": 5,
   "metadata": {},
   "outputs": [
    {
     "name": "stdout",
     "output_type": "stream",
     "text": [
      "('S1= ', 0.8296345761018273)\n",
      "('S2= ', 0.028032878564980306)\n",
      "('S3= ', 0.02785928682986912)\n",
      "('S12= ', 0.029412531579131446)\n",
      "('S13= ', 0.029330166983608612)\n",
      "('S23= ', 0.028101817235508596)\n"
     ]
    },
    {
     "data": {
      "text/plain": [
       "array([14.018989])"
      ]
     },
     "execution_count": 5,
     "metadata": {},
     "output_type": "execute_result"
    },
    {
     "data": {
      "text/plain": [
       "<Figure size 3600x3600 with 0 Axes>"
      ]
     },
     "metadata": {},
     "output_type": "display_data"
    },
    {
     "data": {
      "image/png": "[encoded data removed]",
      "text/plain": [
       "<Figure size 432x288 with 1 Axes>"
      ]
     },
     "metadata": {},
     "output_type": "display_data"
    }
   ],
   "source": [
    "#Example 2 \n",
    "N=10**6;\n",
    "\n",
    "\n",
    "X1=exponential(1,(N,1));\n",
    "X2=exponential(1,(N,1));\n",
    "X3=normal(0,1,(N,1));\n",
    "X1t=exponential(1,(N,1));\n",
    "X2t=exponential(1,(N,1));\n",
    "X3t=normal(0,1,(N,1));\n",
    "Y=X1*X2+X1**2+X1*X2*X3;\n",
    "\n",
    "Yt1=X1*X2t+X1**2+X1*X2t*X3t;\n",
    "Yt2=X1t*X2+X1t**2+X1t*X2*X3t;\n",
    "Yt3=X1t*X2t+X1t**2+X1t*X2t*X3;\n",
    "##Interaccion 1-2\n",
    "Y12=X1*X2+X1**2+X1*X2*X3t;\n",
    "##Interaccion 1-3\n",
    "Y13=X1*X2t+X1**2+X1*X2t*X3;\n",
    "##Interaccion 2-3\n",
    "Y23=X1t*X2+X1t**2+X1t*X2*X3;\n",
    "\n",
    "\n",
    "\n",
    "\n",
    "\n",
    "\n",
    "C1=cov(transpose(Y),transpose(Yt1))\n",
    "C2=cov(transpose(Y),transpose(Yt2))\n",
    "C3=cov(transpose(Y),transpose(Yt3))\n",
    "C12=cov(transpose(Y),transpose(Y12))\n",
    "C13=cov(transpose(Y),transpose(Y13))\n",
    "C23=cov(transpose(Y),transpose(Y23))\n",
    "\n",
    "\n",
    "\n",
    "\n",
    "\n",
    "S1=2*C1[0,1]/(C1[0,0]+C1[1,1]);\n",
    "S2=2*C2[0,1]/(C2[0,0]+C2[1,1]);\n",
    "S3=2*C3[0,1]/(C3[0,0]+C3[1,1]);\n",
    "S12=2*C12[0,1]/(C12[0,0]+C12[1,1])-S1-S2;\n",
    "S13=2*C13[0,1]/(C13[0,0]+C13[1,1])-S1-S3;\n",
    "S23=2*C23[0,1]/(C23[0,0]+C23[1,1])-S2-S3;\n",
    "\n",
    "\n",
    "\n",
    "\n",
    "print(\"S1= \", S1)\n",
    "\n",
    "print(\"S2= \", S2)\n",
    "\n",
    "print(\"S3= \", S3)\n",
    "\n",
    "print(\"S12= \", S12)\n",
    "\n",
    "print(\"S13= \", S13)\n",
    "\n",
    "print(\"S23= \", S23)\n",
    "\n",
    "sum(S1+S2+S3+S12+S13+S23)\n",
    "\n",
    "figure(figsize=(50,50))\n",
    "numpy_hist = plt.figure()\n",
    "y = [S1, S2, S3];\n",
    "N = len(y);\n",
    "x = range(N);\n",
    "width = 1/1.5;\n",
    "plt.bar(x, y, width, color=\"red\")\n",
    "title('Peso de cada variable sobre la variable respuesta',fontsize=20)\n",
    "max(X2)"
   ]
  },
  {
   "cell_type": "code",
   "execution_count": null,
   "metadata": {},
   "outputs": [],
   "source": [
    "sp=samplingplan(2) #Dimension\n",
    "X=sp.optimallhc(10)#Nube de puntos\n",
    "#gaussian way to make regression\n",
    "testfun=pyKriging.testfunctions().branin #Branin --> benchmark\n",
    "y=testfun(X)\n",
    "\n",
    "k=kriging(X,y,testfuncion=testfun,name='simple')\n",
    "k.train()\n",
    "k.plot()"
   ]
  },
  {
   "cell_type": "markdown",
   "metadata": {},
   "source": [
    "## Ejemplo carro"
   ]
  },
  {
   "cell_type": "code",
   "execution_count": 3,
   "metadata": {},
   "outputs": [
    {
     "name": "stdout",
     "output_type": "stream",
     "text": [
      "('S1= ', 0.998044027440057)\n",
      "('S2= ', -0.0005844590317639108)\n",
      "('S3= ', -0.0006628329566749788)\n",
      "('S12= ', 0.0006014827316284709)\n",
      "('S13= ', 0.0006584441120067328)\n",
      "('S23= ', 1.0012472919884388)\n"
     ]
    },
    {
     "data": {
      "text/plain": [
       "array([4.80360895])"
      ]
     },
     "execution_count": 3,
     "metadata": {},
     "output_type": "execute_result"
    },
    {
     "data": {
      "text/plain": [
       "<Figure size 3600x3600 with 0 Axes>"
      ]
     },
     "metadata": {},
     "output_type": "display_data"
    },
    {
     "data": {
      "image/png": "[encoded data removed]",
      "text/plain": [
       "<Figure size 432x288 with 1 Axes>"
      ]
     },
     "metadata": {},
     "output_type": "display_data"
    }
   ],
   "source": [
    "#Example 2 \n",
    "N=10**6;\n",
    "\n",
    "\n",
    "X1=normal(0,1,(N,1));\n",
    "X2=normal(0,1,(N,1));\n",
    "X3=normal(0,1,(N,1));\n",
    "X1t=normal(0,1,(N,1));\n",
    "X2t=normal(0,1,(N,1));\n",
    "X3t=normal(0,1,(N,1));\n",
    "Y=X1*1.9*10**4+X2*X3*8.4*10**2+10*X2;\n",
    "\n",
    "\n",
    "Yt1=X1*1.9*10**4+X2t*X3t*8.4*10**2+10*X2t;\n",
    "Yt2=X1t*1.9*10**4+X2*X3t*8.4*10**2+10*X2;\n",
    "Yt3=X1t*1.9*10**4+X2t*X3*8.4*10**2+10*X2t;\n",
    "##Interaccion 1-2\n",
    "Y12=X1*1.9*10**4+X2*X3t*8.4*10**2+10*X2;\n",
    "##Interaccion 1-3\n",
    "Y13=X1*1.9*10**4+X2t*X3*8.4*10**2+10*X2t;\n",
    "##Interaccion 2-3\n",
    "Y23=X1*1.9*10**4+X2*X3*8.4*10**2+10*X2;\n",
    "\n",
    "\n",
    "\n",
    "\n",
    "\n",
    "\n",
    "C1=cov(transpose(Y),transpose(Yt1))\n",
    "C2=cov(transpose(Y),transpose(Yt2))\n",
    "C3=cov(transpose(Y),transpose(Yt3))\n",
    "C12=cov(transpose(Y),transpose(Y12))\n",
    "C13=cov(transpose(Y),transpose(Y13))\n",
    "C23=cov(transpose(Y),transpose(Y23))\n",
    "\n",
    "\n",
    "\n",
    "\n",
    "\n",
    "S1=2*C1[0,1]/(C1[0,0]+C1[1,1]);\n",
    "S2=2*C2[0,1]/(C2[0,0]+C2[1,1]);\n",
    "S3=2*C3[0,1]/(C3[0,0]+C3[1,1]);\n",
    "S12=2*C12[0,1]/(C12[0,0]+C12[1,1])-S1-S2;\n",
    "S13=2*C13[0,1]/(C13[0,0]+C13[1,1])-S1-S3;\n",
    "S23=2*C23[0,1]/(C23[0,0]+C23[1,1])-S2-S3;\n",
    "\n",
    "\n",
    "\n",
    "\n",
    "print(\"S1= \", S1)\n",
    "\n",
    "print(\"S2= \", S2)\n",
    "\n",
    "print(\"S3= \", S3)\n",
    "\n",
    "print(\"S12= \", S12)\n",
    "\n",
    "print(\"S13= \", S13)\n",
    "\n",
    "print(\"S23= \", S23)\n",
    "\n",
    "sum(S1+S2+S3+S12+S13+S23)\n",
    "\n",
    "figure(figsize=(50,50))\n",
    "numpy_hist = plt.figure()\n",
    "y = [S1, S2, S3];\n",
    "N = len(y);\n",
    "x = range(N);\n",
    "width = 1/1.5;\n",
    "plt.bar(x, y, width, color=\"red\")\n",
    "title('Peso de cada variable sobre la variable respuesta',fontsize=20)\n",
    "max(X2)"
   ]
  },
  {
   "cell_type": "code",
   "execution_count": null,
   "metadata": {},
   "outputs": [],
   "source": []
  }
 ],
 "metadata": {
  "anaconda-cloud": {},
  "kernelspec": {
   "display_name": "Python 2",
   "language": "python",
   "name": "python2"
  },
  "language_info": {
   "codemirror_mode": {
    "name": "ipython",
    "version": 2
   },
   "file_extension": ".py",
   "mimetype": "text/x-python",
   "name": "python",
   "nbconvert_exporter": "python",
   "pygments_lexer": "ipython2",
   "version": "2.7.15"
  }
 },
 "nbformat": 4,
 "nbformat_minor": 2
}
